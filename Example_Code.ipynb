{
 "cells": [
  {
   "cell_type": "code",
   "execution_count": 1,
   "metadata": {},
   "outputs": [],
   "source": [
    "# This notebook takes a look at a particular station from our data at a particular time and simulates\n",
    "# the results of that 30 minute period using every possible number of bikes. For this station, that means\n",
    "# starting at 0 and going up to 27. \n",
    "%matplotlib inline\n",
    "import pandas as pd \n",
    "import numpy as np\n",
    "from scipy import random\n",
    "import matplotlib.pyplot as plt\n"
   ]
  },
  {
   "cell_type": "code",
   "execution_count": 2,
   "metadata": {},
   "outputs": [],
   "source": [
    "#Defining our Function\n",
    "def station_sim(a, d, b, max_cap, min_cap): \n",
    "    \"\"\"Returns # of bad_exp given arrivals, departures, # of bikes, max_cap, min_cap\"\"\"\n",
    "    bad_exp = 0\n",
    "    bikes = b\n",
    "    arr = np.random.poisson(a) # takes arrival rate and randomizes based on poisson dist\n",
    "    dep = np.random.poisson(d) # takes departure rate and randomizes based on poisson dist\n",
    "    alist = []\n",
    "    dlist = []\n",
    "    for i in range(0,arr): # fill alist with the number of 'a' values determined by arr\n",
    "        alist.append('a') \n",
    "\n",
    "    for i in range(0,dep): # fill alist with the number of 'a' values determined by dep\n",
    "        dlist.append('d')\n",
    "    alist.extend(dlist) #combine lists\n",
    "    np.random.shuffle(alist) # randomize lists\n",
    "    for i in alist: # Build a loop which increments number of bikes up or down based\n",
    "        if i == 'a':#  on whether the next interaction is a bike arriving at or leaving the station\n",
    "            bikes += 1\n",
    "            if bikes > max_cap: # if max_cap is exceeded, a bad experience is recorded\n",
    "                bad_exp += 1  \n",
    "                bikes -= 1 # number of bikes is taken back down to 30 b/c max_cap can't be exceeded\n",
    "        if i == 'd': \n",
    "            bikes -= 1 \n",
    "            if bikes < min_cap: # if number of bikes dips below min_cap which is 0 a bad experience is recorded\n",
    "                bad_exp += 1\n",
    "                bikes += 1 # number of bikes cannot go below zero.\n",
    "    return bad_exp\n",
    "    "
   ]
  },
  {
   "cell_type": "code",
   "execution_count": 3,
   "metadata": {},
   "outputs": [
    {
     "name": "stdout",
     "output_type": "stream",
     "text": [
      "The number of bad experiences expected with 0 starting bikes is: Sim_Results    1.1948\n",
      "dtype: float64\n",
      "The number of bad experiences expected with 1 starting bikes is: Sim_Results    0.6398\n",
      "dtype: float64\n",
      "The number of bad experiences expected with 2 starting bikes is: Sim_Results    0.3435\n",
      "dtype: float64\n",
      "The number of bad experiences expected with 3 starting bikes is: Sim_Results    0.1682\n",
      "dtype: float64\n",
      "The number of bad experiences expected with 4 starting bikes is: Sim_Results    0.0773\n",
      "dtype: float64\n",
      "The number of bad experiences expected with 5 starting bikes is: Sim_Results    0.0429\n",
      "dtype: float64\n",
      "The number of bad experiences expected with 6 starting bikes is: Sim_Results    0.0161\n",
      "dtype: float64\n",
      "The number of bad experiences expected with 7 starting bikes is: Sim_Results    0.0081\n",
      "dtype: float64\n",
      "The number of bad experiences expected with 8 starting bikes is: Sim_Results    0.0039\n",
      "dtype: float64\n",
      "The number of bad experiences expected with 9 starting bikes is: Sim_Results    0.0067\n",
      "dtype: float64\n",
      "The number of bad experiences expected with 10 starting bikes is: Sim_Results    0.0063\n",
      "dtype: float64\n",
      "The number of bad experiences expected with 11 starting bikes is: Sim_Results    0.0097\n",
      "dtype: float64\n",
      "The number of bad experiences expected with 12 starting bikes is: Sim_Results    0.0313\n",
      "dtype: float64\n",
      "The number of bad experiences expected with 13 starting bikes is: Sim_Results    0.0432\n",
      "dtype: float64\n",
      "The number of bad experiences expected with 14 starting bikes is: Sim_Results    0.0774\n",
      "dtype: float64\n",
      "The number of bad experiences expected with 15 starting bikes is: Sim_Results    0.1256\n",
      "dtype: float64\n",
      "The number of bad experiences expected with 16 starting bikes is: Sim_Results    0.2246\n",
      "dtype: float64\n",
      "The number of bad experiences expected with 17 starting bikes is: Sim_Results    0.3461\n",
      "dtype: float64\n",
      "The number of bad experiences expected with 18 starting bikes is: Sim_Results    0.5047\n",
      "dtype: float64\n",
      "The number of bad experiences expected with 19 starting bikes is: Sim_Results    0.7912\n",
      "dtype: float64\n",
      "The number of bad experiences expected with 20 starting bikes is: Sim_Results    1.0963\n",
      "dtype: float64\n",
      "The number of bad experiences expected with 21 starting bikes is: Sim_Results    1.5632\n",
      "dtype: float64\n",
      "The number of bad experiences expected with 22 starting bikes is: Sim_Results    2.0966\n",
      "dtype: float64\n",
      "The number of bad experiences expected with 23 starting bikes is: Sim_Results    2.7146\n",
      "dtype: float64\n",
      "The number of bad experiences expected with 24 starting bikes is: Sim_Results    3.5211\n",
      "dtype: float64\n",
      "The number of bad experiences expected with 25 starting bikes is: Sim_Results    4.3409\n",
      "dtype: float64\n",
      "The number of bad experiences expected with 26 starting bikes is: Sim_Results    5.2023\n",
      "dtype: float64\n",
      "The number of bad experiences expected with 27 starting bikes is: Sim_Results    6.2445\n",
      "dtype: float64\n"
     ]
    }
   ],
   "source": [
    "# This code looks at station 3 at 8:30am, which has an arrival rate of 12 and departure rate of 7 \n",
    "# with total capacity 27\n",
    "b=0 # Start with zero bikes at the station\n",
    "n_simulations = 10000 # define the number of simulations per number of starting bikes \n",
    "for i in range(28): # iterate through each possible number of bikes to start out at the station (0:27)\n",
    "    sim_results = []\n",
    "    for simulation in range(n_simulations): # run 10,000 simulations given the number of starting bikes 'b'\n",
    "        result = station_sim(12,7,b,27,0) # call the original function\n",
    "        sim_results.append(result) # append results\n",
    "    columns = ['Sim_Results']\n",
    "    Bad_Experiences_expected = pd.DataFrame(columns=columns, data = sim_results ) # Make DF of bad_exp totals\n",
    "    print('The number of bad experiences expected with',b , 'starting bikes is:', Bad_Experiences_expected.mean())\n",
    "    b+=1 # print the average number of bad experiences, then increase number of bikes by 1 and re-enter loop\n"
   ]
  },
  {
   "cell_type": "code",
   "execution_count": null,
   "metadata": {},
   "outputs": [],
   "source": []
  }
 ],
 "metadata": {
  "kernelspec": {
   "display_name": "Python 3",
   "language": "python",
   "name": "python3"
  },
  "language_info": {
   "codemirror_mode": {
    "name": "ipython",
    "version": 3
   },
   "file_extension": ".py",
   "mimetype": "text/x-python",
   "name": "python",
   "nbconvert_exporter": "python",
   "pygments_lexer": "ipython3",
   "version": "3.7.6"
  }
 },
 "nbformat": 4,
 "nbformat_minor": 4
}
